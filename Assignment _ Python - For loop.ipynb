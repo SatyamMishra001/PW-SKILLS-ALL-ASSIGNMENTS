{
 "cells": [
  {
   "cell_type": "code",
   "execution_count": 1,
   "id": "8a893df4-c45f-4393-8a50-07aead6545b7",
   "metadata": {},
   "outputs": [
    {
     "name": "stdout",
     "output_type": "stream",
     "text": [
      "1\n",
      "2\n",
      "3\n",
      "4\n",
      "5\n",
      "6\n",
      "7\n",
      "8\n",
      "9\n",
      "10\n"
     ]
    }
   ],
   "source": [
    "# 1. Write a Python program to print the numbers from 1 to 10 using a `for` loop.\n",
    "for i in range(1, 11):\n",
    "    print(i)"
   ]
  },
  {
   "cell_type": "code",
   "execution_count": 2,
   "id": "1e3daff8-a517-4cb6-86f3-a9f142dd39e0",
   "metadata": {},
   "outputs": [
    {
     "name": "stdout",
     "output_type": "stream",
     "text": [
      "15\n"
     ]
    }
   ],
   "source": [
    "# Create a program that calculates the sum of all numbers in a list using a `for` loop.\n",
    "l=[1,2,3,4,5]\n",
    "sum=0\n",
    "for i in l:\n",
    "    sum=sum+i\n",
    "print(sum)"
   ]
  },
  {
   "cell_type": "code",
   "execution_count": 3,
   "id": "552ca68b-2766-4810-8ccc-9a9e5e31f4a8",
   "metadata": {},
   "outputs": [
    {
     "name": "stdin",
     "output_type": "stream",
     "text": [
      "Enter a string:  satyam mishra\n"
     ]
    },
    {
     "name": "stdout",
     "output_type": "stream",
     "text": [
      "Reversed string: arhsim maytas\n"
     ]
    }
   ],
   "source": [
    "# 3. Write a program to print the characters of a string in reverse order using a `for` loop.\n",
    "def reverse_string(string):\n",
    "    reversed_string = \"\"\n",
    "    for char in string[::-1]:\n",
    "        reversed_string += char\n",
    "    return reversed_string\n",
    "\n",
    "# Test the function\n",
    "input_string = input(\"Enter a string: \")\n",
    "reversed_output = reverse_string(input_string)\n",
    "print(\"Reversed string:\", reversed_output)"
   ]
  },
  {
   "cell_type": "code",
   "execution_count": 4,
   "id": "057395d7-ce35-4375-a8f1-10446d573b7d",
   "metadata": {},
   "outputs": [
    {
     "name": "stdin",
     "output_type": "stream",
     "text": [
      "Enter a number to find its factorial:  5\n"
     ]
    },
    {
     "name": "stdout",
     "output_type": "stream",
     "text": [
      "Factorial of 5 is 120\n"
     ]
    }
   ],
   "source": [
    "# Develop a program that finds the factorial of a given number using a `for` loop.\n",
    "def factorial(n):\n",
    "    if n < 0:\n",
    "        return \"Factorial is not defined for negative numbers\"\n",
    "    elif n == 0:\n",
    "        return 1\n",
    "    else:\n",
    "        result = 1\n",
    "        for i in range(1, n + 1):\n",
    "            result *= i\n",
    "        return result\n",
    "\n",
    "# Test the function\n",
    "num = int(input(\"Enter a number to find its factorial: \"))\n",
    "print(\"Factorial of\", num, \"is\", factorial(num))"
   ]
  },
  {
   "cell_type": "code",
   "execution_count": 5,
   "id": "51671d58-8ef6-43a3-95b2-4a27793d3202",
   "metadata": {},
   "outputs": [
    {
     "name": "stdin",
     "output_type": "stream",
     "text": [
      "Enter a number to print its multiplication table:  5\n"
     ]
    },
    {
     "name": "stdout",
     "output_type": "stream",
     "text": [
      "Multiplication Table of 5\n",
      "=============================\n",
      "5 x 1 = 5\n",
      "5 x 2 = 10\n",
      "5 x 3 = 15\n",
      "5 x 4 = 20\n",
      "5 x 5 = 25\n",
      "5 x 6 = 30\n",
      "5 x 7 = 35\n",
      "5 x 8 = 40\n",
      "5 x 9 = 45\n",
      "5 x 10 = 50\n"
     ]
    }
   ],
   "source": [
    "# Create a program to print the multiplication table of a given number using a `for` loop.\n",
    "def multiplication_table(number):\n",
    "    print(\"Multiplication Table of\", number)\n",
    "    print(\"=============================\")\n",
    "    for i in range(1, 11):\n",
    "        print(number, \"x\", i, \"=\", number * i)\n",
    "\n",
    "# Test the function\n",
    "num = int(input(\"Enter a number to print its multiplication table: \"))\n",
    "multiplication_table(num)"
   ]
  },
  {
   "cell_type": "code",
   "execution_count": 6,
   "id": "d2ec44b0-3a7b-4f4e-a17e-d940a6f8928d",
   "metadata": {},
   "outputs": [
    {
     "name": "stdout",
     "output_type": "stream",
     "text": [
      "Number of even numbers: 5\n",
      "Number of odd numbers: 5\n"
     ]
    }
   ],
   "source": [
    "# Write a program that counts the number of even and odd numbers in a list using a `for` loop.\n",
    "def count_even_odd(numbers):\n",
    "    even_count = 0\n",
    "    odd_count = 0\n",
    "    for num in numbers:\n",
    "        if num % 2 == 0:\n",
    "            even_count += 1\n",
    "        else:\n",
    "            odd_count += 1\n",
    "    return even_count, odd_count\n",
    "\n",
    "# Test the function\n",
    "numbers = [1, 2, 3, 4, 5, 6, 7, 8, 9, 10]\n",
    "even, odd = count_even_odd(numbers)\n",
    "print(\"Number of even numbers:\", even)\n",
    "print(\"Number of odd numbers:\", odd)"
   ]
  },
  {
   "cell_type": "code",
   "execution_count": 7,
   "id": "a5946219-c516-46c9-b3fe-1e92a838f54d",
   "metadata": {},
   "outputs": [
    {
     "name": "stdout",
     "output_type": "stream",
     "text": [
      "Square of 1 is 1\n",
      "Square of 2 is 4\n",
      "Square of 3 is 9\n",
      "Square of 4 is 16\n",
      "Square of 5 is 25\n"
     ]
    }
   ],
   "source": [
    "# 7. Develop a program that prints the squares of numbers from 1 to 5 using a `for` loop.\n",
    "for i in range(1, 6):\n",
    "    square = i ** 2\n",
    "    print(\"Square of\", i, \"is\", square)"
   ]
  },
  {
   "cell_type": "code",
   "execution_count": 8,
   "id": "af228b09-d434-47cb-abe8-bb89f632511d",
   "metadata": {},
   "outputs": [
    {
     "name": "stdin",
     "output_type": "stream",
     "text": [
      "Enter a string:  satyam\n"
     ]
    },
    {
     "name": "stdout",
     "output_type": "stream",
     "text": [
      "Length of the string: 6\n"
     ]
    }
   ],
   "source": [
    "# Create a program to find the length of a string without using the `len()` function.\n",
    "def find_length(string):\n",
    "    length = 0\n",
    "    for char in string:\n",
    "        length += 1\n",
    "    return length\n",
    "\n",
    "# Test the function\n",
    "input_string = input(\"Enter a string: \")\n",
    "length = find_length(input_string)\n",
    "print(\"Length of the string:\", length)"
   ]
  },
  {
   "cell_type": "code",
   "execution_count": 9,
   "id": "b404b817-f1f0-48c7-8484-f88c1a5f5a83",
   "metadata": {},
   "outputs": [
    {
     "name": "stdout",
     "output_type": "stream",
     "text": [
      "Average: 15.0\n"
     ]
    }
   ],
   "source": [
    "# Write a program that calculates the average of a list of numbers using a `for` loop.\n",
    "def calculate_average(numbers):\n",
    "    total = 0\n",
    "    for num in numbers:\n",
    "        total += num\n",
    "    average = total / len(numbers)\n",
    "    return average\n",
    "\n",
    "# Test the function\n",
    "numbers = [5, 10, 15, 20, 25]\n",
    "avg = calculate_average(numbers)\n",
    "print(\"Average:\", avg)"
   ]
  },
  {
   "cell_type": "code",
   "execution_count": 10,
   "id": "2cfb82f1-214b-4450-a068-0abcfd56fe87",
   "metadata": {},
   "outputs": [
    {
     "name": "stdin",
     "output_type": "stream",
     "text": [
      "Enter the number of Fibonacci numbers you want:  6\n"
     ]
    },
    {
     "name": "stdout",
     "output_type": "stream",
     "text": [
      "First 6 Fibonacci numbers: [0, 1, 1, 2, 3, 5]\n"
     ]
    }
   ],
   "source": [
    "# Develop a program that prints the first `n` Fibonacci numbers using a `for` loop.\n",
    "def fibonacci(n):\n",
    "    fib_sequence = [0, 1]\n",
    "    if n <= 0:\n",
    "        return \"Please enter a positive integer.\"\n",
    "    elif n == 1:\n",
    "        return [0]\n",
    "    elif n == 2:\n",
    "        return fib_sequence\n",
    "\n",
    "    for i in range(2, n):\n",
    "        next_fib = fib_sequence[-1] + fib_sequence[-2]\n",
    "        fib_sequence.append(next_fib)\n",
    "\n",
    "    return fib_sequence\n",
    "\n",
    "# Test the function\n",
    "n = int(input(\"Enter the number of Fibonacci numbers you want: \"))\n",
    "fib_numbers = fibonacci(n)\n",
    "print(\"First\", n, \"Fibonacci numbers:\", fib_numbers)\n"
   ]
  },
  {
   "cell_type": "code",
   "execution_count": 11,
   "id": "220f43d3-da68-4c9c-9bcd-94aa4cbf50ba",
   "metadata": {},
   "outputs": [
    {
     "name": "stdout",
     "output_type": "stream",
     "text": [
      "Does the list contain duplicates? False\n",
      "Does the list contain duplicates? True\n"
     ]
    }
   ],
   "source": [
    "# 11. Write a program to check if a given list contains any duplicates using a `for` loop.\n",
    "def has_duplicates(lst):\n",
    "    seen = set()\n",
    "    for item in lst:\n",
    "        if item in seen:\n",
    "            return True\n",
    "        seen.add(item)\n",
    "    return False\n",
    "\n",
    "# Test the function\n",
    "my_list = [1, 2, 3, 4, 5, 6]\n",
    "print(\"Does the list contain duplicates?\", has_duplicates(my_list))\n",
    "\n",
    "my_list_with_duplicates = [1, 2, 3, 4, 5, 3]\n",
    "print(\"Does the list contain duplicates?\", has_duplicates(my_list_with_duplicates))\n"
   ]
  },
  {
   "cell_type": "code",
   "execution_count": 13,
   "id": "d9639eae-f7d1-4d6e-931d-6f4aa9d71eff",
   "metadata": {},
   "outputs": [
    {
     "name": "stdin",
     "output_type": "stream",
     "text": [
      "Enter the start of the range:  4\n",
      "Enter the end of the range:  11\n"
     ]
    },
    {
     "name": "stdout",
     "output_type": "stream",
     "text": [
      "Prime numbers between 4 and 11 are:\n",
      "5 7 11 "
     ]
    }
   ],
   "source": [
    " # 12. Create a program that prints the prime numbers in a given range using a `for` loop.\n",
    "def is_prime(num):\n",
    "    if num <= 1:\n",
    "        return False\n",
    "    for i in range(2, int(num**0.5) + 1):\n",
    "        if num % i == 0:\n",
    "            return False\n",
    "    return True\n",
    "\n",
    "def print_prime_numbers(start, end):\n",
    "    print(\"Prime numbers between\", start, \"and\", end, \"are:\")\n",
    "    for num in range(start, end + 1):\n",
    "        if is_prime(num):\n",
    "            print(num, end=\" \")\n",
    "\n",
    "# Test the function\n",
    "start_range = int(input(\"Enter the start of the range: \"))\n",
    "end_range = int(input(\"Enter the end of the range: \"))\n",
    "print_prime_numbers(start_range, end_range)\n"
   ]
  },
  {
   "cell_type": "code",
   "execution_count": 14,
   "id": "f3809450-cd15-4e4d-a714-43baa553a04e",
   "metadata": {},
   "outputs": [
    {
     "name": "stdin",
     "output_type": "stream",
     "text": [
      "Enter a string:  hellooo\n"
     ]
    },
    {
     "name": "stdout",
     "output_type": "stream",
     "text": [
      "Number of vowels in the string: 4\n"
     ]
    }
   ],
   "source": [
    "# Develop a program that counts the number of vowels in a string using a `for` loop.\n",
    "def count_vowels(string):\n",
    "    vowels = \"aeiouAEIOU\"\n",
    "    count = 0\n",
    "    for char in string:\n",
    "        if char in vowels:\n",
    "            count += 1\n",
    "    return count\n",
    "\n",
    "# Test the function\n",
    "input_string = input(\"Enter a string: \")\n",
    "num_vowels = count_vowels(input_string)\n",
    "print(\"Number of vowels in the string:\", num_vowels)\n"
   ]
  },
  {
   "cell_type": "code",
   "execution_count": 15,
   "id": "50e7e154-8247-4cc6-ba8a-09874c37401a",
   "metadata": {},
   "outputs": [
    {
     "name": "stdout",
     "output_type": "stream",
     "text": [
      "Maximum element in the 2D list: 9\n"
     ]
    }
   ],
   "source": [
    "# Write a program to find the maximum element in a 2D list using a nested `for` loop.\n",
    "def find_max_element_2d(lst):\n",
    "    max_element = float('-inf')  # Initialize with negative infinity\n",
    "    for row in lst:\n",
    "        for element in row:\n",
    "            if element > max_element:\n",
    "                max_element = element\n",
    "    return max_element\n",
    "\n",
    "# Test the function\n",
    "matrix = [\n",
    "    [1, 2, 3],\n",
    "    [4, 5, 6],\n",
    "    [7, 8, 9]\n",
    "]\n",
    "max_element = find_max_element_2d(matrix)\n",
    "print(\"Maximum element in the 2D list:\", max_element)\n"
   ]
  },
  {
   "cell_type": "code",
   "execution_count": 16,
   "id": "b8b9566d-fed8-4b51-828a-a4ab39fca7ef",
   "metadata": {},
   "outputs": [
    {
     "name": "stdout",
     "output_type": "stream",
     "text": [
      "Original List: [1, 2, 3, 4, 2, 5, 2, 6]\n",
      "Updated List after removing all occurrences of 2 : [1, 3, 4, 5, 6]\n"
     ]
    }
   ],
   "source": [
    "# Create a program that removes all occurrences of a specific element from a list using a `for` loop.\n",
    "def remove_element(lst, element):\n",
    "    new_list = []\n",
    "    for item in lst:\n",
    "        if item != element:\n",
    "            new_list.append(item)\n",
    "    return new_list\n",
    "\n",
    "# Test the function\n",
    "original_list = [1, 2, 3, 4, 2, 5, 2, 6]\n",
    "element_to_remove = 2\n",
    "updated_list = remove_element(original_list, element_to_remove)\n",
    "print(\"Original List:\", original_list)\n",
    "print(\"Updated List after removing all occurrences of\", element_to_remove, \":\", updated_list)\n"
   ]
  },
  {
   "cell_type": "code",
   "execution_count": 17,
   "id": "308b0d4e-1955-48a4-93ff-8445c990c9ff",
   "metadata": {},
   "outputs": [
    {
     "name": "stdout",
     "output_type": "stream",
     "text": [
      "Multiplication table for 1\n",
      "===============================\n",
      "1 x 1 = 1\n",
      "1 x 2 = 2\n",
      "1 x 3 = 3\n",
      "1 x 4 = 4\n",
      "1 x 5 = 5\n",
      "1 x 6 = 6\n",
      "1 x 7 = 7\n",
      "1 x 8 = 8\n",
      "1 x 9 = 9\n",
      "1 x 10 = 10\n",
      "\n",
      "Multiplication table for 2\n",
      "===============================\n",
      "2 x 1 = 2\n",
      "2 x 2 = 4\n",
      "2 x 3 = 6\n",
      "2 x 4 = 8\n",
      "2 x 5 = 10\n",
      "2 x 6 = 12\n",
      "2 x 7 = 14\n",
      "2 x 8 = 16\n",
      "2 x 9 = 18\n",
      "2 x 10 = 20\n",
      "\n",
      "Multiplication table for 3\n",
      "===============================\n",
      "3 x 1 = 3\n",
      "3 x 2 = 6\n",
      "3 x 3 = 9\n",
      "3 x 4 = 12\n",
      "3 x 5 = 15\n",
      "3 x 6 = 18\n",
      "3 x 7 = 21\n",
      "3 x 8 = 24\n",
      "3 x 9 = 27\n",
      "3 x 10 = 30\n",
      "\n",
      "Multiplication table for 4\n",
      "===============================\n",
      "4 x 1 = 4\n",
      "4 x 2 = 8\n",
      "4 x 3 = 12\n",
      "4 x 4 = 16\n",
      "4 x 5 = 20\n",
      "4 x 6 = 24\n",
      "4 x 7 = 28\n",
      "4 x 8 = 32\n",
      "4 x 9 = 36\n",
      "4 x 10 = 40\n",
      "\n",
      "Multiplication table for 5\n",
      "===============================\n",
      "5 x 1 = 5\n",
      "5 x 2 = 10\n",
      "5 x 3 = 15\n",
      "5 x 4 = 20\n",
      "5 x 5 = 25\n",
      "5 x 6 = 30\n",
      "5 x 7 = 35\n",
      "5 x 8 = 40\n",
      "5 x 9 = 45\n",
      "5 x 10 = 50\n",
      "\n"
     ]
    }
   ],
   "source": [
    "# Develop a program that generates a multiplication table for numbers from 1 to 5 using a nested `for` loop.\n",
    "def generate_multiplication_table():\n",
    "    for i in range(1, 6):\n",
    "        print(\"Multiplication table for\", i)\n",
    "        print(\"===============================\")\n",
    "        for j in range(1, 11):\n",
    "            print(i, \"x\", j, \"=\", i * j)\n",
    "        print()\n",
    "\n",
    "# Call the function to generate the multiplication table\n",
    "generate_multiplication_table()\n"
   ]
  },
  {
   "cell_type": "code",
   "execution_count": 18,
   "id": "3dfc3c91-4f06-4459-8a91-f21d985823ae",
   "metadata": {},
   "outputs": [
    {
     "name": "stdout",
     "output_type": "stream",
     "text": [
      "Fahrenheit Temperatures: [32, 68, 86, 104, 212]\n",
      "Celsius Temperatures: [0.0, 20.0, 30.0, 40.0, 100.0]\n"
     ]
    }
   ],
   "source": [
    "# Write a program that converts a list of Fahrenheit temperatures to Celsius using a `for` loop.\n",
    "def fahrenheit_to_celsius(fahrenheit_temps):\n",
    "    celsius_temps = []\n",
    "    for fahrenheit in fahrenheit_temps:\n",
    "        celsius = (fahrenheit - 32) * 5 / 9\n",
    "        celsius_temps.append(celsius)\n",
    "    return celsius_temps\n",
    "\n",
    "# Test the function\n",
    "fahrenheit_temperatures = [32, 68, 86, 104, 212]\n",
    "celsius_temperatures = fahrenheit_to_celsius(fahrenheit_temperatures)\n",
    "print(\"Fahrenheit Temperatures:\", fahrenheit_temperatures)\n",
    "print(\"Celsius Temperatures:\", celsius_temperatures)\n"
   ]
  },
  {
   "cell_type": "code",
   "execution_count": 19,
   "id": "5f6d57e1-2eae-440e-a1a6-56ae9a1e35e2",
   "metadata": {},
   "outputs": [
    {
     "name": "stdout",
     "output_type": "stream",
     "text": [
      "Common elements between list1 and list2: [4, 5]\n"
     ]
    }
   ],
   "source": [
    "# Create a program to print the common elements from two lists using a `for` loop.\n",
    "def find_common_elements(list1, list2):\n",
    "    common_elements = []\n",
    "    for item in list1:\n",
    "        if item in list2:\n",
    "            common_elements.append(item)\n",
    "    return common_elements\n",
    "\n",
    "# Test the function\n",
    "list1 = [1, 2, 3, 4, 5]\n",
    "list2 = [4, 5, 6, 7, 8]\n",
    "common_elements = find_common_elements(list1, list2)\n",
    "print(\"Common elements between list1 and list2:\", common_elements)\n"
   ]
  },
  {
   "cell_type": "code",
   "execution_count": 20,
   "id": "81222f80-46ba-4ca8-93a0-33f0123e67c3",
   "metadata": {},
   "outputs": [
    {
     "name": "stdin",
     "output_type": "stream",
     "text": [
      "Enter the number of rows for the right-angled triangle:  5\n"
     ]
    },
    {
     "name": "stdout",
     "output_type": "stream",
     "text": [
      "Right-angled triangle pattern:\n",
      "*\n",
      "**\n",
      "***\n",
      "****\n",
      "*****\n"
     ]
    }
   ],
   "source": [
    "# Develop a program that prints the pattern of right-angled triangles using a `for` loop. Use ‘*’ to draw the\n",
    "#pattern\n",
    "def print_right_triangle(rows):\n",
    "    for i in range(1, rows + 1):\n",
    "        print('*' * i)\n",
    "\n",
    "# Test the function\n",
    "rows = int(input(\"Enter the number of rows for the right-angled triangle: \"))\n",
    "print(\"Right-angled triangle pattern:\")\n",
    "print_right_triangle(rows)\n"
   ]
  },
  {
   "cell_type": "code",
   "execution_count": 22,
   "id": "51983d5b-b553-49e3-833b-dcc57cb69b81",
   "metadata": {},
   "outputs": [
    {
     "name": "stdin",
     "output_type": "stream",
     "text": [
      "Enter the first number:  5\n",
      "Enter the second number:  55\n"
     ]
    },
    {
     "name": "stdout",
     "output_type": "stream",
     "text": [
      "The greatest common divisor (GCD) of 5 and 55 is: 5\n"
     ]
    }
   ],
   "source": [
    "# Write a program to find the greatest common divisor (GCD) of two numbers using a `for` loop.\n",
    "def gcd(a, b):\n",
    "    # Ensure that a is greater than or equal to b\n",
    "    if a < b:\n",
    "        a, b = b, a\n",
    "    \n",
    "    # Initialize gcd to 1\n",
    "    gcd = 1\n",
    "    \n",
    "    # Iterate from 1 to the smaller of a and b\n",
    "    for i in range(1, b + 1):\n",
    "        if a % i == 0 and b % i == 0:\n",
    "            gcd = i\n",
    "    \n",
    "    return gcd\n",
    "\n",
    "# Test the function\n",
    "num1 = int(input(\"Enter the first number: \"))\n",
    "num2 = int(input(\"Enter the second number: \"))\n",
    "result = gcd(num1, num2)\n",
    "print(\"The greatest common divisor (GCD) of\", num1, \"and\", num2, \"is:\", result)\n"
   ]
  },
  {
   "cell_type": "code",
   "execution_count": 25,
   "id": "9fb1b836-dd07-4163-b6b7-d81dfb8d5a90",
   "metadata": {},
   "outputs": [
    {
     "name": "stdout",
     "output_type": "stream",
     "text": [
      "The original list is : [12, 67, 98, 34]\n",
      "List Integer Summation : [3, 13, 17, 7]\n"
     ]
    }
   ],
   "source": [
    "# Create a program that calculates the sum of the digits of numbers in a list using a list comprehension.\n",
    "test_list = [12, 67, 98, 34]\n",
    " \n",
    "# printing original list\n",
    "print(\"The original list is : \" + str(test_list))\n",
    " \n",
    "# Sum of number digits in List\n",
    "# using loop + str()\n",
    "res = []\n",
    "for ele in test_list:\n",
    "    sum = 0\n",
    "    for digit in str(ele):\n",
    "        sum += int(digit)\n",
    "    res.append(sum)\n",
    "     \n",
    "# printing result \n",
    "print (\"List Integer Summation : \" + str(res))\n"
   ]
  },
  {
   "cell_type": "code",
   "execution_count": 26,
   "id": "3a222106-1a8e-4fb1-b8bd-488d55da8c89",
   "metadata": {},
   "outputs": [
    {
     "name": "stdin",
     "output_type": "stream",
     "text": [
      "Enter a number to find its prime factors:  4\n"
     ]
    },
    {
     "name": "stdout",
     "output_type": "stream",
     "text": [
      "Prime factors of 4 are: [2, 2]\n"
     ]
    }
   ],
   "source": [
    "# Write a program to find the prime factors of a given number using a `for` loop and list comprehension.\n",
    "def prime_factors(n):\n",
    "    factors = []\n",
    "    # Divide the number by 2 repeatedly while it is even\n",
    "    while n % 2 == 0:\n",
    "        factors.append(2)\n",
    "        n //= 2\n",
    "    # Divide the number by odd numbers starting from 3\n",
    "    for i in range(3, int(n**0.5) + 1, 2):\n",
    "        while n % i == 0:\n",
    "            factors.append(i)\n",
    "            n //= i\n",
    "    # If n is a prime number greater than 2\n",
    "    if n > 2:\n",
    "        factors.append(n)\n",
    "    return factors\n",
    "\n",
    "# Test the function\n",
    "number = int(input(\"Enter a number to find its prime factors: \"))\n",
    "factors = prime_factors(number)\n",
    "print(\"Prime factors of\", number, \"are:\", factors)\n"
   ]
  },
  {
   "cell_type": "code",
   "execution_count": 27,
   "id": "defa1e87-b80b-4617-8791-8c2ebf00061a",
   "metadata": {},
   "outputs": [
    {
     "name": "stdout",
     "output_type": "stream",
     "text": [
      "Original List: [1, 2, 3, 4, 2, 3, 5, 6, 7, 8, 9, 7]\n",
      "Unique Elements List: [1, 2, 3, 4, 5, 6, 7, 8, 9]\n"
     ]
    }
   ],
   "source": [
    "# Develop a program that extracts unique elements from a list and stores them in a new list using a list\n",
    "#comprehension.\n",
    "original_list = [1, 2, 3, 4, 2, 3, 5, 6, 7, 8, 9, 7]\n",
    "\n",
    "unique_elements = [x for i, x in enumerate(original_list) if original_list.index(x) == i]\n",
    "\n",
    "print(\"Original List:\", original_list)\n",
    "print(\"Unique Elements List:\", unique_elements)\n"
   ]
  },
  {
   "cell_type": "code",
   "execution_count": 28,
   "id": "3fab864a-e668-46da-9743-5d4fa8c5e15a",
   "metadata": {},
   "outputs": [
    {
     "name": "stdin",
     "output_type": "stream",
     "text": [
      "Enter the limit:  12\n"
     ]
    },
    {
     "name": "stdout",
     "output_type": "stream",
     "text": [
      "Palindromic Numbers up to 12 : [1, 2, 3, 4, 5, 6, 7, 8, 9, 11]\n"
     ]
    }
   ],
   "source": [
    "# Create a program that generates a list of all palindromic numbers up to a specified limit using a list comprehension.\n",
    "def is_palindromic(n):\n",
    "    return str(n) == str(n)[::-1]\n",
    "\n",
    "limit = int(input(\"Enter the limit: \"))\n",
    "\n",
    "palindromic_numbers = [num for num in range(1, limit + 1) if is_palindromic(num)]\n",
    "\n",
    "print(\"Palindromic Numbers up to\", limit, \":\", palindromic_numbers)\n"
   ]
  },
  {
   "cell_type": "code",
   "execution_count": 29,
   "id": "321aaca0-9955-4b9f-baf3-456d6756f04d",
   "metadata": {},
   "outputs": [
    {
     "name": "stdout",
     "output_type": "stream",
     "text": [
      "Original Nested List: [[1, 2, 3], [4, 5], [6, 7, 8]]\n",
      "Flattened List: [1, 2, 3, 4, 5, 6, 7, 8]\n"
     ]
    }
   ],
   "source": [
    "# Write a program to flatten a nested list using list comprehension.\n",
    "nested_list = [[1, 2, 3], [4, 5], [6, 7, 8]]\n",
    "\n",
    "flattened_list = [item for sublist in nested_list for item in sublist]\n",
    "\n",
    "print(\"Original Nested List:\", nested_list)\n",
    "print(\"Flattened List:\", flattened_list)\n"
   ]
  },
  {
   "cell_type": "code",
   "execution_count": 31,
   "id": "46b4b51e-7591-4b07-bedc-a1053d5c68a9",
   "metadata": {},
   "outputs": [
    {
     "name": "stdout",
     "output_type": "stream",
     "text": [
      "The original list is : [345, 893, 1948, 34, 2346]\n",
      "Odd digit sum : 36\n",
      "Even digit sum : 40\n"
     ]
    }
   ],
   "source": [
    "# Develop a program that computes the sum of even and odd numbers in a list separately using list comprehension.\n",
    "test_list = [345, 893, 1948, 34, 2346]\n",
    " \n",
    "# printing original list\n",
    "print(\"The original list is : \" + str(test_list))\n",
    " \n",
    "odd_sum = 0\n",
    "even_sum = 0\n",
    " \n",
    "for sub in test_list:\n",
    "    for ele in str(sub):\n",
    "         \n",
    "        # adding in particular summation according to value \n",
    "        if int(ele) % 2 == 0:\n",
    "            even_sum += int(ele)\n",
    "        else:\n",
    "            odd_sum += int(ele)\n",
    " \n",
    "# printing result \n",
    "print(\"Odd digit sum : \" + str(odd_sum))\n",
    "print(\"Even digit sum : \" + str(even_sum))\n"
   ]
  },
  {
   "cell_type": "code",
   "execution_count": 32,
   "id": "2b272415-df7d-42f9-bad3-b41f45cfdcda",
   "metadata": {},
   "outputs": [
    {
     "name": "stdout",
     "output_type": "stream",
     "text": [
      "List of squares of odd numbers between 1 and 10: [1, 9, 25, 49, 81]\n"
     ]
    }
   ],
   "source": [
    "# Create a program that generates a list of squares of odd numbers between 1 and 10 using list comprehension.\n",
    "# Generate a list of squares of odd numbers between 1 and 10\n",
    "squares_of_odd = [x**2 for x in range(1, 11) if x % 2 != 0]\n",
    "\n",
    "# Print the list of squares of odd numbers\n",
    "print(\"List of squares of odd numbers between 1 and 10:\", squares_of_odd)\n"
   ]
  },
  {
   "cell_type": "code",
   "execution_count": 33,
   "id": "60042f1e-31d3-416d-a048-a1734c488d83",
   "metadata": {},
   "outputs": [
    {
     "name": "stdout",
     "output_type": "stream",
     "text": [
      "Combined Dictionary: {'a': 1, 'b': 2, 'c': 3}\n"
     ]
    }
   ],
   "source": [
    "#Write a program that combines two lists into a dictionary using list comprehension.\n",
    "keys = ['a', 'b', 'c']\n",
    "values = [1, 2, 3]\n",
    "\n",
    "# Combine the two lists into a dictionary using list comprehension\n",
    "combined_dict = {key: value for key, value in zip(keys, values)}\n",
    "\n",
    "# Print the combined dictionary\n",
    "print(\"Combined Dictionary:\", combined_dict)\n"
   ]
  },
  {
   "cell_type": "code",
   "execution_count": 35,
   "id": "1cf73383-e639-4631-8bfb-81dcc3199491",
   "metadata": {},
   "outputs": [
    {
     "name": "stdin",
     "output_type": "stream",
     "text": [
      "Enter a string:  satyam anuradha\n"
     ]
    },
    {
     "name": "stdout",
     "output_type": "stream",
     "text": [
      "Vowels in the string: ['a', 'a', 'a', 'u', 'a', 'a']\n"
     ]
    }
   ],
   "source": [
    "# Develop a program that extracts the vowels from a string and stores them in a list using list comprehension.\n",
    "def extract_vowels(string):\n",
    "    vowels = 'aeiouAEIOU'\n",
    "    return [char for char in string if char in vowels]\n",
    "\n",
    "# Test the function\n",
    "input_string = input(\"Enter a string: \")\n",
    "vowels_list = extract_vowels(input_string)\n",
    "print(\"Vowels in the string:\", vowels_list)\n"
   ]
  },
  {
   "cell_type": "code",
   "execution_count": 36,
   "id": "b2405c97-7e8b-4e30-bf05-66d1622c54a2",
   "metadata": {},
   "outputs": [
    {
     "name": "stdout",
     "output_type": "stream",
     "text": [
      "Original List: ['abc123', '456def', 'ghi789']\n",
      "List with Non-Numeric Characters Removed: ['123', '456', '789']\n"
     ]
    }
   ],
   "source": [
    "# Create a program that removes all non-numeric characters from a list of strings using list comprehension.\n",
    "def remove_non_numeric(strings):\n",
    "    return [''.join(char for char in string if char.isdigit()) for string in strings]\n",
    "\n",
    "# Test the function\n",
    "strings_list = ['abc123', '456def', 'ghi789']\n",
    "result_list = remove_non_numeric(strings_list)\n",
    "print(\"Original List:\", strings_list)\n",
    "print(\"List with Non-Numeric Characters Removed:\", result_list)\n"
   ]
  },
  {
   "cell_type": "code",
   "execution_count": 37,
   "id": "d8b3e73f-ef3a-4b15-9184-2f4df76ca1f5",
   "metadata": {},
   "outputs": [
    {
     "name": "stdin",
     "output_type": "stream",
     "text": [
      "Enter the limit:  5\n"
     ]
    },
    {
     "name": "stdout",
     "output_type": "stream",
     "text": [
      "List of prime numbers up to 5 : [2, 3, 5]\n"
     ]
    }
   ],
   "source": [
    "# Write a program to generate a list of prime numbers using the Sieve of Eratosthenes algorithm and list comprehension\n",
    "def sieve_of_eratosthenes(limit):\n",
    "    sieve = [True] * (limit + 1)\n",
    "    sieve[0], sieve[1] = False, False\n",
    "    for num in range(2, int(limit ** 0.5) + 1):\n",
    "        if sieve[num]:\n",
    "            sieve[num * num : limit + 1 : num] = [False] * len(sieve[num * num : limit + 1 : num])\n",
    "    return [num for num, is_prime in enumerate(sieve) if is_prime]\n",
    "\n",
    "# Test the function\n",
    "limit = int(input(\"Enter the limit: \"))\n",
    "prime_numbers = sieve_of_eratosthenes(limit)\n",
    "print(\"List of prime numbers up to\", limit, \":\", prime_numbers)\n"
   ]
  },
  {
   "cell_type": "code",
   "execution_count": 38,
   "id": "c1d33b1f-f91c-4de6-84d5-83e1586bc4a2",
   "metadata": {},
   "outputs": [
    {
     "name": "stdin",
     "output_type": "stream",
     "text": [
      "Enter the limit:  8\n"
     ]
    },
    {
     "name": "stdout",
     "output_type": "stream",
     "text": [
      "List of Pythagorean triplets up to 8 : [(3, 4, 5)]\n"
     ]
    }
   ],
   "source": [
    "# Create a program that generates a list of all Pythagorean triplets up to a specified limit using list\n",
    "# comprehension.\n",
    "def pythagorean_triplets(limit):\n",
    "    return [(a, b, c) for c in range(1, limit)\n",
    "                      for b in range(1, c)\n",
    "                      for a in range(1, b)\n",
    "                      if a**2 + b**2 == c**2]\n",
    "\n",
    "# Test the function\n",
    "limit = int(input(\"Enter the limit: \"))\n",
    "triplets = pythagorean_triplets(limit)\n",
    "print(\"List of Pythagorean triplets up to\", limit, \":\", triplets)\n"
   ]
  },
  {
   "cell_type": "code",
   "execution_count": 39,
   "id": "b487b98a-caa1-40c9-ba3f-623267618952",
   "metadata": {},
   "outputs": [
    {
     "name": "stdout",
     "output_type": "stream",
     "text": [
      "List 1: [1, 2, 3]\n",
      "List 2: ['a', 'b', 'c']\n",
      "All possible combinations: [(1, 'a'), (1, 'b'), (1, 'c'), (2, 'a'), (2, 'b'), (2, 'c'), (3, 'a'), (3, 'b'), (3, 'c')]\n"
     ]
    }
   ],
   "source": [
    "# Develop a program that generates a list of all possible combinations of two lists using list comprehension.\n",
    "list1 = [1, 2, 3]\n",
    "list2 = ['a', 'b', 'c']\n",
    "\n",
    "combinations = [(x, y) for x in list1 for y in list2]\n",
    "\n",
    "print(\"List 1:\", list1)\n",
    "print(\"List 2:\", list2)\n",
    "print(\"All possible combinations:\", combinations)\n"
   ]
  },
  {
   "cell_type": "code",
   "execution_count": 40,
   "id": "653dc11b-1d7a-43ce-8014-e965546bae3e",
   "metadata": {},
   "outputs": [
    {
     "name": "stdout",
     "output_type": "stream",
     "text": [
      "Original List: [3, 1, 4, 1, 5, 9, 2, 6, 5, 3, 5]\n",
      "Mean: 4\n",
      "Median: 4\n",
      "Mode: 5\n"
     ]
    }
   ],
   "source": [
    "# Write a program that calculates the mean, median, and mode of a list of numbers using list\n",
    "# comprehension.\n",
    "from statistics import mean, median, mode\n",
    "\n",
    "# Input list of numbers\n",
    "numbers = [3, 1, 4, 1, 5, 9, 2, 6, 5, 3, 5]\n",
    "\n",
    "# Calculate mean using list comprehension\n",
    "mean_value = mean(numbers)\n",
    "\n",
    "# Calculate median using list comprehension\n",
    "sorted_numbers = sorted(numbers)\n",
    "mid = len(sorted_numbers) // 2\n",
    "median_value = (sorted_numbers[mid] + sorted_numbers[~mid]) / 2 if len(sorted_numbers) % 2 == 0 else sorted_numbers[mid]\n",
    "\n",
    "# Calculate mode using list comprehension\n",
    "mode_value = mode(numbers)\n",
    "\n",
    "# Print results\n",
    "print(\"Original List:\", numbers)\n",
    "print(\"Mean:\", mean_value)\n",
    "print(\"Median:\", median_value)\n",
    "print(\"Mode:\", mode_value)\n"
   ]
  },
  {
   "cell_type": "code",
   "execution_count": 41,
   "id": "c51acb3b-5fbf-48b5-b412-96fbf58a3c64",
   "metadata": {},
   "outputs": [
    {
     "name": "stdin",
     "output_type": "stream",
     "text": [
      "Enter the number of rows for Pascal's triangle:  8\n"
     ]
    },
    {
     "name": "stdout",
     "output_type": "stream",
     "text": [
      "Pascal's Triangle:\n",
      "               1                \n",
      "              1 1               \n",
      "             1 2 1              \n",
      "            1 3 3 1             \n",
      "           1 4 6 4 1            \n",
      "         1 5 10 10 5 1          \n",
      "        1 6 15 20 15 6 1        \n",
      "      1 7 21 35 35 21 7 1       \n"
     ]
    }
   ],
   "source": [
    "# Create a program that generates Pascal's triangle up to a specified number of rows using list comprehension.\n",
    "def generate_pascals_triangle(rows):\n",
    "    triangle = [[1]]\n",
    "    for i in range(1, rows):\n",
    "        prev_row = triangle[-1]\n",
    "        new_row = [1] + [prev_row[j] + prev_row[j+1] for j in range(i - 1)] + [1]\n",
    "        triangle.append(new_row)\n",
    "    return triangle\n",
    "\n",
    "def print_pascals_triangle(triangle):\n",
    "    for row in triangle:\n",
    "        print(\" \".join(map(str, row)).center(len(triangle[-1]) * 4))\n",
    "\n",
    "# Test the functions\n",
    "rows = int(input(\"Enter the number of rows for Pascal's triangle: \"))\n",
    "pascals_triangle = generate_pascals_triangle(rows)\n",
    "print(\"Pascal's Triangle:\")\n",
    "print_pascals_triangle(pascals_triangle)\n"
   ]
  },
  {
   "cell_type": "code",
   "execution_count": 44,
   "id": "14162ac4-57e9-4ff9-896c-36534d679c53",
   "metadata": {},
   "outputs": [
    {
     "name": "stdout",
     "output_type": "stream",
     "text": [
      "10539\n"
     ]
    }
   ],
   "source": [
    "# Develop a program that calculates the sum of the digits of a factorial of numbers from 1 to 5 using list comprehension.\n",
    "def multiply(v, x):\n",
    "    carry = 0\n",
    "    size = len(v)\n",
    "    for i in range(size):\n",
    "         \n",
    "        # Calculate res + prev carry\n",
    "        res = carry + v[i] * x\n",
    " \n",
    "        # updation at ith position\n",
    "        v[i] = res % 10\n",
    "        carry = res // 10\n",
    " \n",
    "    while (carry != 0):\n",
    "        v.append(carry % 10)\n",
    "        carry //= 10\n",
    " \n",
    "# Returns sum of digits in n!\n",
    "def findSumOfDigits( n):\n",
    "    v = []     # create a vector of type int\n",
    "    v.append(1) # adds 1 to the end\n",
    " \n",
    "    # One by one multiply i to current \n",
    "    # vector and update the vector.\n",
    "    for i in range(1, n + 1):\n",
    "        multiply(v, i)\n",
    " \n",
    "    # Find sum of digits in vector v[]\n",
    "    sum = 0\n",
    "    size = len(v)\n",
    "    for i in range(size):\n",
    "        sum += v[i]\n",
    "    return sum\n",
    " \n",
    "if __name__ == \"__main__\":\n",
    "     \n",
    "    n = 1000\n",
    "    print(findSumOfDigits(n))\n",
    " "
   ]
  },
  {
   "cell_type": "code",
   "execution_count": 45,
   "id": "fc9033af-098e-43d5-b427-6e419253388b",
   "metadata": {},
   "outputs": [
    {
     "name": "stdin",
     "output_type": "stream",
     "text": [
      "Enter a sentence:  this is my assignment\n"
     ]
    },
    {
     "name": "stdout",
     "output_type": "stream",
     "text": [
      "Longest word in the sentence: assignment\n"
     ]
    }
   ],
   "source": [
    "# Write a program that finds the longest word in a sentence using list comprehension.\n",
    "sentence = input(\"Enter a sentence: \")\n",
    "\n",
    "# Split the sentence into words\n",
    "words = sentence.split()\n",
    "\n",
    "# Find the longest word using list comprehension\n",
    "longest_word = max(words, key=len)\n",
    "\n",
    "print(\"Longest word in the sentence:\", longest_word)\n"
   ]
  },
  {
   "cell_type": "code",
   "execution_count": 47,
   "id": "89ecbb51-0a2f-4023-b96a-5764eb179deb",
   "metadata": {},
   "outputs": [
    {
     "name": "stdout",
     "output_type": "stream",
     "text": [
      "The original list is : ['gfg', 'best', 'for', 'geeks']\n",
      "Maximum vowels word : geeks\n"
     ]
    }
   ],
   "source": [
    "# Create a program that filters a list of strings to include only those with more than three vowels using list\n",
    "# comprehension.\n",
    "test_list = [\"gfg\", \"best\", \"for\", \"geeks\"]\n",
    " \n",
    "# printing original list\n",
    "print(\"The original list is : \" + str(test_list))\n",
    " \n",
    " \n",
    "def vc(s):\n",
    "    x = s.count(\"a\")+s.count(\"e\")+s.count(\"i\")+s.count(\"o\")+s.count(\"u\")\n",
    "    return x\n",
    " \n",
    " \n",
    "res = []\n",
    " \n",
    "# Iterating elements in list \n",
    "for ele in test_list:\n",
    "    res.append(vc(ele))\n",
    "a = res.index(max(res))\n",
    "re = test_list[a]\n",
    " \n",
    "# Printing the result\n",
    "print(\"Maximum vowels word : \" + str(re))\n"
   ]
  },
  {
   "cell_type": "code",
   "execution_count": null,
   "id": "2ee50be5-bf45-4c4c-9f96-7630fcdf5c40",
   "metadata": {},
   "outputs": [],
   "source": []
  }
 ],
 "metadata": {
  "kernelspec": {
   "display_name": "Python 3 (ipykernel)",
   "language": "python",
   "name": "python3"
  },
  "language_info": {
   "codemirror_mode": {
    "name": "ipython",
    "version": 3
   },
   "file_extension": ".py",
   "mimetype": "text/x-python",
   "name": "python",
   "nbconvert_exporter": "python",
   "pygments_lexer": "ipython3",
   "version": "3.10.8"
  }
 },
 "nbformat": 4,
 "nbformat_minor": 5
}
