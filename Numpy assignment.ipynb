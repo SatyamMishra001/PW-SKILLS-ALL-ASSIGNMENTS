{
 "cells": [
  {
   "cell_type": "code",
   "execution_count": null,
   "id": "06bd3668-4776-4914-8c9c-2bd072ad8dda",
   "metadata": {},
   "outputs": [],
   "source": [
    "# What is a Python library? Why ^o we use Python libraries?\n",
    "#Python libraries are collections of reusable code modules that you can integrate into your projects to save time and effort. They are like a toolbox, each providing different tools that can be used to perform various tasks efficiently."
   ]
  },
  {
   "cell_type": "code",
   "execution_count": 2,
   "id": "8da0ac1e-bb45-4bd0-ab91-4a7ad0be9cfc",
   "metadata": {},
   "outputs": [],
   "source": [
    "import numpy as np"
   ]
  },
  {
   "cell_type": "code",
   "execution_count": 8,
   "id": "e5ad69ea-e8f9-4add-95dd-ba226216c181",
   "metadata": {},
   "outputs": [
    {
     "data": {
      "text/plain": [
       "(3, 4)"
      ]
     },
     "execution_count": 8,
     "metadata": {},
     "output_type": "execute_result"
    }
   ],
   "source": [
    "# Find the shape, size an^ ^imension of the following array?\n",
    "arr = np.array([[1, 2, 3, 4],\n",
    "[5, 6, 7, 8],\n",
    "[9, 10, 11, 12]])\n",
    "\n",
    "np.shape(arr)\n"
   ]
  },
  {
   "cell_type": "code",
   "execution_count": 9,
   "id": "6d6055cd-717d-48e7-a773-605c7db923db",
   "metadata": {},
   "outputs": [
    {
     "data": {
      "text/plain": [
       "12"
      ]
     },
     "execution_count": 9,
     "metadata": {},
     "output_type": "execute_result"
    }
   ],
   "source": [
    "np.size(arr)"
   ]
  },
  {
   "cell_type": "code",
   "execution_count": 10,
   "id": "2edb573b-eedf-463e-a09b-f21fbe45aea9",
   "metadata": {},
   "outputs": [
    {
     "data": {
      "text/plain": [
       "2"
      ]
     },
     "execution_count": 10,
     "metadata": {},
     "output_type": "execute_result"
    }
   ],
   "source": [
    "np.ndim(arr)"
   ]
  },
  {
   "cell_type": "code",
   "execution_count": 32,
   "id": "b12c9de3-9920-42ee-afe2-16cf750c7bd2",
   "metadata": {},
   "outputs": [
    {
     "data": {
      "text/plain": [
       "array([1, 2, 3, 4])"
      ]
     },
     "execution_count": 32,
     "metadata": {},
     "output_type": "execute_result"
    }
   ],
   "source": [
    "# 4. Write python co^e to access the first row of the following array?\n",
    "arr1 = np.array([[1, 2, 3, 4],[5, 6, 7, 8],[9, 10, 11, 12]])\n",
    "arr1[0]"
   ]
  },
  {
   "cell_type": "code",
   "execution_count": 33,
   "id": "1550d982-f623-4127-a935-2dea8230a302",
   "metadata": {},
   "outputs": [
    {
     "data": {
      "text/plain": [
       "array([12])"
      ]
     },
     "execution_count": 33,
     "metadata": {},
     "output_type": "execute_result"
    }
   ],
   "source": [
    "# How ^o you access the element at the thir^ row an^ fourth column from the given numpy array?\n",
    "arr1=np.array([[1, 2, 3, 4],\n",
    "[5, 6, 7, 8],\n",
    "[9, 10, 11, 12]])\n",
    "\n",
    "arr1[2,[3]]\n",
    "\n"
   ]
  },
  {
   "cell_type": "code",
   "execution_count": 43,
   "id": "21f299fd-0517-4fc8-a171-282a92961d2a",
   "metadata": {},
   "outputs": [
    {
     "name": "stdout",
     "output_type": "stream",
     "text": [
      "Odd-indexed elements:\n",
      "[[ 2  4]\n",
      " [ 6  8]\n",
      " [10 12]]\n"
     ]
    }
   ],
   "source": [
    "# 6. Write code to extract all o^^-in^exe^ elements from the given numpy array?\n",
    "arr=np.array([[1, 2, 3, 4],\n",
    "[5, 6, 7, 8],\n",
    "[9, 10, 11, 12]])\n",
    "\n",
    "odd_indexed_elements = arr[:, 1::2]\n",
    "\n",
    "print(\"Odd-indexed elements:\")\n",
    "print(odd_indexed_elements)"
   ]
  },
  {
   "cell_type": "code",
   "execution_count": 53,
   "id": "5a6f9905-4f7a-455f-b59d-0ffd9e08987c",
   "metadata": {},
   "outputs": [
    {
     "data": {
      "text/plain": [
       "array([[0, 0, 0],\n",
       "       [0, 0, 0],\n",
       "       [0, 0, 0]])"
      ]
     },
     "execution_count": 53,
     "metadata": {},
     "output_type": "execute_result"
    }
   ],
   "source": [
    "# 7. How can you generate a ran^om 3x3 matrix with values between 0 an^ 1?\n",
    "np.random.randint(0,1,(3,3))\n"
   ]
  },
  {
   "cell_type": "code",
   "execution_count": 54,
   "id": "43b4916f-610f-4d18-a6c9-86bb2922d3c9",
   "metadata": {},
   "outputs": [
    {
     "data": {
      "text/plain": [
       "2"
      ]
     },
     "execution_count": 54,
     "metadata": {},
     "output_type": "execute_result"
    }
   ],
   "source": [
    "# 9. Write co^e to increase the ^imension of the following array?\n",
    "arr= np.array([[1, 2, 3, 4],\n",
    "[5, 6, 7, 8],\n",
    "[9, 10, 11, 12]])\n",
    "np.ndim(arr)"
   ]
  },
  {
   "cell_type": "code",
   "execution_count": 56,
   "id": "ae246504-f5b2-4ebe-9693-24c448e9e979",
   "metadata": {},
   "outputs": [
    {
     "data": {
      "text/plain": [
       "array([[[ 1,  2,  3,  4],\n",
       "        [ 5,  6,  7,  8],\n",
       "        [ 9, 10, 11, 12]]])"
      ]
     },
     "execution_count": 56,
     "metadata": {},
     "output_type": "execute_result"
    }
   ],
   "source": [
    "np.expand_dims(arr,axis=0)"
   ]
  },
  {
   "cell_type": "code",
   "execution_count": 60,
   "id": "6008eb9a-844e-4e27-b75f-f9f367eba9f9",
   "metadata": {},
   "outputs": [
    {
     "data": {
      "text/plain": [
       "array([[ 1,  5,  9],\n",
       "       [ 2,  6, 10],\n",
       "       [ 3,  7, 11],\n",
       "       [ 4,  8, 12]])"
      ]
     },
     "execution_count": 60,
     "metadata": {},
     "output_type": "execute_result"
    }
   ],
   "source": [
    "# 10. How to transpose the following array in NumPy?\n",
    "\n",
    "arr=np.array([[1, 2, 3, 4],\n",
    "[5, 6, 7, 8],\n",
    "[9, 10, 11, 12]])\n",
    "\n",
    "arr.T"
   ]
  },
  {
   "cell_type": "code",
   "execution_count": 91,
   "id": "0362297b-7cde-4d4e-aae9-0f3fb76077ca",
   "metadata": {},
   "outputs": [
    {
     "data": {
      "text/plain": [
       "array([[  1,   4,   9,  16],\n",
       "       [ 25,  36,  49,  64],\n",
       "       [ 81, 100, 121, 144]])"
      ]
     },
     "execution_count": 91,
     "metadata": {},
     "output_type": "execute_result"
    }
   ],
   "source": [
    "# 11. Consi^er the following matrix:\n",
    "'''Perform the following operation using Python1\n",
    ",+ I(dex wiLe multiplicatio'\n",
    "     + Matix multiplicatio'\n",
    "+ Add both the maticK\n",
    "-+ Subtact matix B om \n",
    "+ Diide Matix B by A'''\n",
    "\n",
    "A = np.array([[1, 2, 3, 4], [5, 6, 7, 8],[9, 10, 11, 12]])\n",
    "B = np.array([[1, 2, 3, 4], [5, 6, 7, 8],[9, 10, 11, 12]])\n",
    "\n",
    "A*B"
   ]
  },
  {
   "cell_type": "code",
   "execution_count": 93,
   "id": "3927449e-9019-4a8d-8499-8fbe5320b16a",
   "metadata": {},
   "outputs": [
    {
     "data": {
      "text/plain": [
       "array([[ 2,  4,  6,  8],\n",
       "       [10, 12, 14, 16],\n",
       "       [18, 20, 22, 24]])"
      ]
     },
     "execution_count": 93,
     "metadata": {},
     "output_type": "execute_result"
    }
   ],
   "source": [
    "A+B"
   ]
  },
  {
   "cell_type": "code",
   "execution_count": 94,
   "id": "577edb38-f54b-401b-aebc-669c99be7ec9",
   "metadata": {},
   "outputs": [
    {
     "data": {
      "text/plain": [
       "array([[0, 0, 0, 0],\n",
       "       [0, 0, 0, 0],\n",
       "       [0, 0, 0, 0]])"
      ]
     },
     "execution_count": 94,
     "metadata": {},
     "output_type": "execute_result"
    }
   ],
   "source": [
    "B-A"
   ]
  },
  {
   "cell_type": "code",
   "execution_count": 97,
   "id": "2edbc7d0-960e-497a-b11a-48cafaa3e2b7",
   "metadata": {},
   "outputs": [
    {
     "data": {
      "text/plain": [
       "array([[1., 1., 1., 1.],\n",
       "       [1., 1., 1., 1.],\n",
       "       [1., 1., 1., 1.]])"
      ]
     },
     "execution_count": 97,
     "metadata": {},
     "output_type": "execute_result"
    }
   ],
   "source": [
    "B/A"
   ]
  },
  {
   "cell_type": "code",
   "execution_count": null,
   "id": "6e9446d8-3822-4cf5-b2f5-8a4bf73438df",
   "metadata": {},
   "outputs": [],
   "source": [
    "A@B "
   ]
  },
  {
   "cell_type": "code",
   "execution_count": null,
   "id": "8d98081e-0476-4544-b965-8f659ec74ab1",
   "metadata": {},
   "outputs": [],
   "source": [
    "# 12. Which function in Numpy can be use^ to swap the byte or^er of an array?\n",
    "'''In NumPy, you can use the byteswap() function to swap the byte order of an array. This function swaps the byte order of the elements in the array without changing the data itself. It can be useful when dealing with data stored in a different endianness or when interfacing with systems that use a different byte order.'''"
   ]
  },
  {
   "cell_type": "code",
   "execution_count": null,
   "id": "74348c04-57ed-46a4-8307-93e8dad84379",
   "metadata": {},
   "outputs": [],
   "source": [
    "###13. What is the significance of the np.linalg.inv function?\n",
    "\n",
    "# The np.linalg.inv function in NumPy is used to compute the inverse of a square matrix"
   ]
  },
  {
   "cell_type": "code",
   "execution_count": null,
   "id": "3675f2d5-32b7-48ab-896a-897b4ad40e2c",
   "metadata": {},
   "outputs": [],
   "source": [
    "# 14. What ^oes the np.reshape function ^o, an^ how is it use^?\n",
    "# The np.reshape function in NumPy is used to change the shape of an array without changing its data. It allows you to reorganize the elements of the array into a new shape, provided that the total number of elements remains the same."
   ]
  },
  {
   "cell_type": "code",
   "execution_count": null,
   "id": "5bbd4632-f645-4ee0-b85f-eec3ed71454a",
   "metadata": {},
   "outputs": [
    {
     "data": {
      "text/plain": [
       "array([23, 55, 87])"
      ]
     },
     "execution_count": 102,
     "metadata": {},
     "output_type": "execute_result"
    }
   ],
   "source": [
    "\n"
   ]
  },
  {
   "cell_type": "code",
   "execution_count": null,
   "id": "57021efc-2f6e-44a7-b65e-bf9ef4bad548",
   "metadata": {},
   "outputs": [],
   "source": []
  }
 ],
 "metadata": {
  "kernelspec": {
   "display_name": "Python 3 (ipykernel)",
   "language": "python",
   "name": "python3"
  },
  "language_info": {
   "codemirror_mode": {
    "name": "ipython",
    "version": 3
   },
   "file_extension": ".py",
   "mimetype": "text/x-python",
   "name": "python",
   "nbconvert_exporter": "python",
   "pygments_lexer": "ipython3",
   "version": "3.10.8"
  }
 },
 "nbformat": 4,
 "nbformat_minor": 5
}
