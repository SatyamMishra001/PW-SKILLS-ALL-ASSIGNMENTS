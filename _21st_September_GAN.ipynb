{
 "cells": [
  {
   "cell_type": "code",
   "execution_count": 11,
   "id": "70503e60-7729-4215-86b0-e613158896ca",
   "metadata": {},
   "outputs": [
    {
     "name": "stdout",
     "output_type": "stream",
     "text": [
      "True\n"
     ]
    }
   ],
   "source": [
    "## 1. Given an array, check if it contains any duplicates or not.\n",
    "\n",
    "def duplicate(arr):\n",
    "    n=len(arr)\n",
    "    a=0\n",
    "    b=0\n",
    "    for i in range(n):\n",
    "        for j in range(i+1,n):\n",
    "            if arr[i]==arr[j]:\n",
    "                a=1\n",
    "            else:\n",
    "                b=1\n",
    "    if a==1:\n",
    "        print(\"True\")\n",
    "    else:\n",
    "        print(\"False\")\n",
    "                \n",
    "                      \n",
    "arr = [1, 2, 4, 2, 5, 9]\n",
    "duplicate(arr)"
   ]
  },
  {
   "cell_type": "code",
   "execution_count": 12,
   "id": "fea7fbe2-d4d6-4f9e-8b51-3544a4d90938",
   "metadata": {},
   "outputs": [
    {
     "name": "stdout",
     "output_type": "stream",
     "text": [
      "5 6 7 1 2 3 4 \n",
      "\n"
     ]
    }
   ],
   "source": [
    "# Given an array and an integer k, rotate the array to the right by k steps.\n",
    "\n",
    "def RightRotate(a, n, k):\n",
    " \n",
    "    # If rotation is greater \n",
    "    # than size of array\n",
    "    k = k % n;\n",
    " \n",
    "    for i in range(0, n):\n",
    " \n",
    "        if(i < k):\n",
    " \n",
    "            # Printing rightmost \n",
    "            # kth elements\n",
    "            print(a[n + i - k], end = \" \");\n",
    " \n",
    "        else:\n",
    " \n",
    "            # Prints array after\n",
    "            # 'k' elements\n",
    "            print(a[i - k], end = \" \");\n",
    " \n",
    "    print(\"\\n\");\n",
    " \n",
    "# Driver code\n",
    "Array = [1, 2, 3, 4, 5, 6, 7]\n",
    "N = len(Array);\n",
    "K = 3;\n",
    "     \n",
    "RightRotate(Array, N, K);\n",
    "\n",
    "\n"
   ]
  },
  {
   "cell_type": "code",
   "execution_count": 13,
   "id": "f93cf84a-0dae-4b67-a355-3bc25beac77d",
   "metadata": {},
   "outputs": [
    {
     "name": "stdout",
     "output_type": "stream",
     "text": [
      "[12, 9, 7, 5, 4, 2]\n"
     ]
    }
   ],
   "source": [
    "# 3. Reverse the given array in-place, means without using any extra data structure.\n",
    "arr = [2, 4, 5, 7, 9, 12]\n",
    "print(arr[::-1])"
   ]
  },
  {
   "cell_type": "code",
   "execution_count": 14,
   "id": "02d627d9-20e9-4af4-9463-2fbbbec2da47",
   "metadata": {},
   "outputs": [
    {
     "data": {
      "text/plain": [
       "20"
      ]
     },
     "execution_count": 14,
     "metadata": {},
     "output_type": "execute_result"
    }
   ],
   "source": [
    "# Given an array of integers, find the maximum element in an array\n",
    "arr = [10, 5, 20, 8, 15]\n",
    "max(arr)"
   ]
  },
  {
   "cell_type": "code",
   "execution_count": 17,
   "id": "43d9dfde-57ef-4203-bf58-50c0f4ac2924",
   "metadata": {},
   "outputs": [
    {
     "data": {
      "text/plain": [
       "[1, 2, 3, 4, 5]"
      ]
     },
     "execution_count": 17,
     "metadata": {},
     "output_type": "execute_result"
    }
   ],
   "source": [
    "# Given a sorted array, remove the duplicate element without using any extra data structure.\n",
    "arr = [1, 1, 2, 2, 2, 3, 3, 4, 4, 4, 5, 5]\n",
    "list(set(arr))\n"
   ]
  },
  {
   "cell_type": "code",
   "execution_count": null,
   "id": "6d0d5cdc-2903-4dcf-9981-2bcc418a74b1",
   "metadata": {},
   "outputs": [],
   "source": []
  }
 ],
 "metadata": {
  "kernelspec": {
   "display_name": "Python 3 (ipykernel)",
   "language": "python",
   "name": "python3"
  },
  "language_info": {
   "codemirror_mode": {
    "name": "ipython",
    "version": 3
   },
   "file_extension": ".py",
   "mimetype": "text/x-python",
   "name": "python",
   "nbconvert_exporter": "python",
   "pygments_lexer": "ipython3",
   "version": "3.10.8"
  }
 },
 "nbformat": 4,
 "nbformat_minor": 5
}
